{
  "nbformat": 4,
  "nbformat_minor": 0,
  "metadata": {
    "colab": {
      "provenance": [],
      "toc_visible": true
    },
    "kernelspec": {
      "name": "python3",
      "display_name": "Python 3"
    },
    "language_info": {
      "name": "python"
    }
  },
  "cells": [
    {
      "cell_type": "markdown",
      "source": [
        "# Install\n"
      ],
      "metadata": {
        "id": "CkMYSqRMqfAw"
      }
    },
    {
      "cell_type": "code",
      "source": [
        "pip install tweepy --upgrade\n",
        "\n",
        "import tweepy\n",
        "import pandas as pd\n",
        "\n",
        "from datetime import date, datetime, timedelta\n",
        "\n",
        "import time\n",
        "\n",
        "import re\n",
        "\n",
        "import nltk\n",
        "nltk.download('vader_lexicon')\n",
        "\n",
        "from nltk.sentiment.vader import SentimentIntensityAnalyzer as SIA"
      ],
      "metadata": {
        "id": "Yu7PM88Kqi71"
      },
      "execution_count": null,
      "outputs": []
    },
    {
      "cell_type": "markdown",
      "source": [
        "# Config Academic"
      ],
      "metadata": {
        "id": "M4s-NOUGqoR2"
      }
    },
    {
      "cell_type": "code",
      "source": [
        "BEARER_TOKEN = 'AAAAAAAAAAAAAAAAAAAAAHNhigEAAAAAwHSUHVAVIybNuWMQpwnL0ZLPL%2B0%3DpVmEp29k7ROb1Sq8m8Q9LtX4JS2Sna70X8AHCqR3NxzIni1pkL'\n",
        "\n",
        "consumer_api_key = 'Gb3xYTwp17nWvY358lxBiAR30'\n",
        "consumer_api_secret = 'QtOldDkAWAZ1GLCuyhllnBShJyFM0jpQPgmrqMt441SQ8BGrMh'\n",
        "\n",
        "auth = tweepy.OAuthHandler(consumer_api_key, consumer_api_secret)\n",
        "api = tweepy.API(auth, wait_on_rate_limit=True)"
      ],
      "metadata": {
        "id": "fyPS99dkqwSt"
      },
      "execution_count": null,
      "outputs": []
    },
    {
      "cell_type": "markdown",
      "source": [
        "# Collecting tweets"
      ],
      "metadata": {
        "id": "QKXLfFwOq2Uo"
      }
    },
    {
      "cell_type": "code",
      "source": [
        "import tweepy\n",
        "client = tweepy.Client(bearer_token=BEARER_TOKEN)\n",
        "\n",
        "#Input\n",
        "query= '(btc OR Bitcoin OR #btc OR #Bitcoin) lang: en -is:retweet'\n",
        "\n",
        "start_date = '2013-01-01T00:00:00Z'\n",
        "end_date = '2013-01-01T23:59:59Z'\n",
        "\n",
        "data = []\n",
        "n = 1\n",
        "day_count = 2\n",
        "\n",
        "#Moving day by day\n",
        "for single_date in (datetime.strptime(end_date,\"%Y-%m-%dT%H:%M:%SZ\") + timedelta(days=n) for n in range(day_count)):\n",
        "  single_date = single_date.strftime(\"%Y-%m-%dT%H:%M:%SZ\")\n",
        " \n",
        "#Search Tweets \n",
        " \n",
        "  response = client.search_all_tweets(query = query, max_results=500, start_time=start_date, end_time=single_date, tweet_fields=['created_at','public_metrics'])\n",
        "  time.sleep(5)\n",
        "    \n",
        "\n",
        "#Add tweets (per day) in list called Data\n",
        "  for tweet in response.data:\n",
        "    data.append([tweet.created_at, tweet.text, tweet.public_metrics])\n",
        "\n",
        "\n",
        "#Putting data into data frame\n",
        "df = pd.DataFrame(data, columns = ['Time', 'Tweet', 'Metrics'])\n",
        "print(df)\n",
        "\n",
        "#Data to CSV\n",
        "\n",
        "df.to_csv('tweetsTestV1.csv')"
      ],
      "metadata": {
        "id": "QQjfMWnircCF"
      },
      "execution_count": null,
      "outputs": []
    }
  ]
}