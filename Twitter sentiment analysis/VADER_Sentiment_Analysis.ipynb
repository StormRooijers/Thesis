{
  "nbformat": 4,
  "nbformat_minor": 0,
  "metadata": {
    "colab": {
      "provenance": [],
      "collapsed_sections": [
        "tnRYFTAZs8LP"
      ],
      "toc_visible": true
    },
    "kernelspec": {
      "name": "python3",
      "display_name": "Python 3"
    },
    "language_info": {
      "name": "python"
    }
  },
  "cells": [
    {
      "cell_type": "markdown",
      "source": [
        "# Install"
      ],
      "metadata": {
        "id": "3WMK-lsBsK2V"
      }
    },
    {
      "cell_type": "code",
      "source": [
        "pip install tweepy --upgrade\n",
        "\n",
        "import tweepy\n",
        "import pandas as pd\n",
        "\n",
        "from datetime import date, datetime, timedelta\n",
        "\n",
        "import time\n",
        "\n",
        "import re\n",
        "\n",
        "import nltk\n",
        "nltk.download('vader_lexicon')\n",
        "\n",
        "from nltk.sentiment.vader import SentimentIntensityAnalyzer as SIA"
      ],
      "metadata": {
        "id": "FVZsP6CKsy5f"
      },
      "execution_count": null,
      "outputs": []
    },
    {
      "cell_type": "markdown",
      "source": [
        "# VADER Sentiment Analysis"
      ],
      "metadata": {
        "id": "tnRYFTAZs8LP"
      }
    },
    {
      "cell_type": "code",
      "source": [
        "#Loading the file and printing first 3 rows for comparison\n",
        "f_data = pd.read_excel('/content/tweetsTestV2 xlsx (1).xlsx')\n",
        "\n",
        "f_data.head(3)"
      ],
      "metadata": {
        "id": "AjT2fl_vrnz1"
      },
      "execution_count": null,
      "outputs": []
    },
    {
      "cell_type": "code",
      "source": [
        "#Remove twitter handlers\n",
        "f_data.Tweet = f_data.Tweet.apply(lambda x:re.sub('@[^\\s]+','',x))\n",
        "\n",
        "#Remove hashtags\n",
        "f_data.Tweet = f_data.Tweet.apply(lambda x:re.sub(r'\\B#\\S+','',x))\n",
        "\n",
        "#Remove Dollar Signs\n",
        "f_data.Tweet = f_data.Tweet.apply(lambda x:re.sub(r'\\$\\S+','',x))\n",
        "\n",
        "# Remove URLS\n",
        "f_data.Tweet = f_data.Tweet.apply(lambda x:re.sub(r\"http\\S+\", \"\", x))\n",
        "\n",
        "# Remove all the special characters #Even kijken of dit moet, dan gaan de emojis ook weg nml\n",
        "f_data.Tweet = f_data.Tweet.apply(lambda x:' '.join(re.findall(r'\\w+', x)))\n",
        "\n",
        "# Substituting multiple spaces with single space\n",
        "f_data.Tweet = f_data.Tweet.apply(lambda x:re.sub(r'\\s+', ' ', x, flags=re.I))\n",
        "\n",
        "sid = SIA()\n",
        "f_data['sentiments']           = f_data['Tweet'].apply(lambda x: sid.polarity_scores(' '.join(re.findall(r'\\w+',x.lower()))))\n",
        "f_data['Positive Sentiment']   = f_data['sentiments'].apply(lambda x: x['pos']+1*(10**-6)) \n",
        "f_data['Neutral Sentiment']    = f_data['sentiments'].apply(lambda x: x['neu']+1*(10**-6))\n",
        "f_data['Negative Sentiment']   = f_data['sentiments'].apply(lambda x: x['neg']+1*(10**-6))\n",
        "\n",
        "f_data.drop(columns=['sentiments'],inplace=True)\n",
        "\n",
        "f_data.head(100)"
      ],
      "metadata": {
        "id": "fjzG2TAervWU"
      },
      "execution_count": null,
      "outputs": []
    },
    {
      "cell_type": "code",
      "source": [
        "sid = SIA()\n",
        "f_data['sentiments']           = f_data['Tweet'].apply(lambda x: sid.polarity_scores(' '.join(re.findall(r'\\w+',x.lower()))))\n",
        "f_data['Positive Sentiment']   = f_data['sentiments'].apply(lambda x: x['pos']+1*(10**-6)) \n",
        "f_data['Neutral Sentiment']    = f_data['sentiments'].apply(lambda x: x['neu']+1*(10**-6))\n",
        "f_data['Negative Sentiment']   = f_data['sentiments'].apply(lambda x: x['neg']+1*(10**-6))\n",
        "\n",
        "f_data.drop(columns=['sentiments'],inplace=True)\n",
        "\n",
        "f_data.head(10)"
      ],
      "metadata": {
        "id": "KDJiTjs6r169"
      },
      "execution_count": null,
      "outputs": []
    }
  ]
}